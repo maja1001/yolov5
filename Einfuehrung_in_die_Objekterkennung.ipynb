{
  "cells": [
    {
      "cell_type": "markdown",
      "metadata": {
        "id": "xM1mLLyE7fa2"
      },
      "source": [
        "![](https://upload.wikimedia.org/wikipedia/commons/thumb/5/5e/Logo_of_Hochschule_Kaiserslautern.png/320px-Logo_of_Hochschule_Kaiserslautern.png)\n",
        "\n",
        "![](https://miro.medium.com/v2/resize:fit:640/format:webp/0*mmUHzD_vxDJn5Rfc.gif)"
      ]
    },
    {
      "cell_type": "markdown",
      "metadata": {
        "id": "I1qYcdmBKLNO"
      },
      "source": [
        "# **Eine Einfuehrung in die Objekterkennung**\n",
        "\n",
        "Trainieren und anwenden von künstlichen neuronalen Netzen.\n",
        "\n",
        "Ein Workshop von *Max*."
      ]
    },
    {
      "cell_type": "markdown",
      "metadata": {
        "id": "omFoFxX0PgnH"
      },
      "source": [
        "# **1. Einrichten der Umgebung**\n",
        "\n",
        "- Repository klonen\n",
        "- Abhänigkeiten installieren *(mit `pip3.x`)*\n",
        "- Installation Prüfen: *print PyTorch* und *GPU Version*"
      ]
    },
    {
      "cell_type": "code",
      "source": [
        "!git clone https://github.com/maja1001/yolov5.git\n",
        "\n",
        "%cd yolov5\n",
        "%pip install -r requirements.txt\n",
        "%pip install roboflow\n",
        "\n",
        "print(\"\\n[Info] Repository erfolgreich geklont und Abhänigkeiten installiert.\")"
      ],
      "metadata": {
        "id": "xHPIN4xotYjf"
      },
      "execution_count": null,
      "outputs": []
    },
    {
      "cell_type": "code",
      "execution_count": null,
      "metadata": {
        "id": "pir5W6sosvM_"
      },
      "outputs": [],
      "source": [
        "import torch\n",
        "\n",
        "print( f\"[Info] Torch Version: {torch.__version__} ({torch.cuda.get_device_properties(0).name if torch.cuda.is_available() else 'Keine Grafikkarte gefunden: CPU wird verwendet'})\" )"
      ]
    },
    {
      "cell_type": "code",
      "execution_count": null,
      "metadata": {
        "id": "J8SjO1AuVqud"
      },
      "outputs": [],
      "source": [
        "!git pull"
      ]
    },
    {
      "cell_type": "markdown",
      "metadata": {
        "id": "HTGtqDNrS7SB"
      },
      "source": [
        "# **2. Verifizierung der Codebasis**\n",
        "\n",
        "- Validiere die Installation des Repositories anhand von Test Bildern / Detektionen\n",
        "- Einsatz von `yolov5s`\n",
        "- Alternative auch:\n",
        "  - `yolov5n`\n",
        "  - `yolov5m`\n",
        "  - `yolov5l`\n",
        "  - `yolov5x`"
      ]
    },
    {
      "cell_type": "code",
      "execution_count": null,
      "metadata": {
        "id": "njAPw9KKS8Al"
      },
      "outputs": [],
      "source": [
        "# Teste detect\n",
        "!python detect.py --weights yolov5s.pt --img 640 --conf 0.25 --source data/images/bus.jpg --name test/bus\n",
        "!python detect.py --weights yolov5s.pt --img 640 --conf 0.25 --source data/images/zidane.jpg --name test/zidane\n",
        "\n",
        "!python detect.py --weights yolov5s.pt --img 640 --conf 0.7 --source data/images/bus.jpg --name test/busHighConf\n",
        "!python detect.py --weights yolov5s.pt --img 640 --conf 0.7 --source data/images/zidane.jpg --name test/zidaneHighConf\n",
        "\n",
        "# test both pictures\n",
        "# !python detect.py --weights yolov5s.pt --img 640 --conf 0.25 --source data/images"
      ]
    },
    {
      "cell_type": "code",
      "execution_count": null,
      "metadata": {
        "id": "JGi_9UZtWM0S"
      },
      "outputs": [],
      "source": [
        "# Entferne bisherige Ergebnisse\n",
        "!rm -r runs/detect/test"
      ]
    },
    {
      "cell_type": "markdown",
      "metadata": {
        "id": "KjDbNhPE_n5R"
      },
      "source": [
        "# **3. Datensatz einbinden**\n",
        "- Under der Verwendung des Roboflow Packages\n",
        "- Roboflow Schnittstelle mit entsprechenden Schlüssel nutzen\n",
        "- Hier geht es zu [Roboflow](https://roboflow.com/?ref=ultralytics)\n",
        "\n",
        "Hier geht es zu einigen Vorbereiteten [Datensätzen](https://universe.roboflow.com/hsklworkshop-m8g4f)"
      ]
    },
    {
      "cell_type": "code",
      "execution_count": null,
      "metadata": {
        "id": "HO9EM4J__etG"
      },
      "outputs": [],
      "source": [
        "# Datensatz einbinden\n",
        "from roboflow import Roboflow\n",
        "\n",
        "rf = Roboflow(api_key=\"vB3ieGw7uAwm1qyRpILr\")\n",
        "project = rf.workspace(\"hsklworkshop-m8g4f\").project(\"laptop-o9ebb\")\n",
        "\n",
        "# Roh\n",
        "dataset = project.version(1).download(\"yolov5\")\n",
        "\n",
        "# Mit Data Augmentation\n",
        "dataset = project.version(2).download(\"yolov5\")"
      ]
    },
    {
      "cell_type": "markdown",
      "source": [
        "# **4. Training**\n",
        "\n",
        "### **Es gibt mehrere Möglichkeiten ein Training durchzuführen**\n",
        "\n",
        "1. In einem Google Colaboratory (Colab)\n",
        "2. Alternative über das [Ultralytics HUB](https://hub.ultralytics.com/home)"
      ],
      "metadata": {
        "id": "r6j9r3SB1qx6"
      }
    },
    {
      "cell_type": "markdown",
      "metadata": {
        "id": "SI4SRALFDfJ7"
      },
      "source": [
        "#### **1. Google Colab**\n",
        "\n",
        "- Basis Befehl / Python Script: `train.py`\n",
        "- Hilfe under: `train.py --help`\n",
        "- Mehrere Argumente sind möglich:\n",
        "\n",
        "```\n",
        "# Auszug\n",
        "--img 320/512/640/..\n",
        "--batch 16/32/64/128\n",
        "--epochs\n",
        "--cfg /path/to/_.yaml\n",
        "--data /path/to/data.yaml\n",
        "--weights /path/to/_.pt\n",
        "--hyp /path/to/_.yaml\n",
        "--project /dataset/train_journey/myFirstTraining\n",
        "--name myFirstTraining\n",
        "--cache ram\n",
        "```\n",
        "\n",
        "- Default Werte werden gesetzt\n",
        "- Beispielhafter Trainings Befehl: `!python train.py --img 640 --batch 16 --epochs 3 --data coco128.yaml --weights yolov5s.pt --cache ram`\n",
        "- Einsatz von verschiedenen Trainingsmethoden möglich\n",
        "  - Transfer Learning mit angehaltenen Schichten: ``` --freeze 10 ```\n",
        "\n"
      ]
    },
    {
      "cell_type": "code",
      "execution_count": null,
      "metadata": {
        "id": "c3gPoISdDbuR"
      },
      "outputs": [],
      "source": [
        "# Mit MS COCO Beispiel\n",
        "!python train.py xxx"
      ]
    },
    {
      "cell_type": "code",
      "execution_count": null,
      "metadata": {
        "id": "gqpRDpOO7cPb"
      },
      "outputs": [],
      "source": [
        "!python train.py --help"
      ]
    },
    {
      "cell_type": "code",
      "execution_count": null,
      "metadata": {
        "id": "nH421QYH677E"
      },
      "outputs": [],
      "source": [
        "# Individueller Datensatz\n",
        "# !python train.py --img --batch --epochs --cfg --data --weights --hyp --project name/of/dataset/result --name --cache ram"
      ]
    },
    {
      "cell_type": "code",
      "execution_count": null,
      "metadata": {
        "id": "jT2Iqw7O5yoU"
      },
      "outputs": [],
      "source": [
        "# Individueller Datensatz (laptop-1)\n"
      ]
    },
    {
      "cell_type": "code",
      "execution_count": null,
      "metadata": {
        "id": "FRh44T6m768N"
      },
      "outputs": [],
      "source": [
        "# Individueller Datensatz - mit angehaltenen Schichten (freeze layers) (laptop-1)\n"
      ]
    },
    {
      "cell_type": "code",
      "execution_count": null,
      "metadata": {
        "id": "lHurQ43KRvsm"
      },
      "outputs": [],
      "source": [
        "# Entferne Trainings Ergebnisse\n",
        "!rm -r laptop-1/result"
      ]
    },
    {
      "cell_type": "markdown",
      "metadata": {
        "id": "JYWC8RKwoq79"
      },
      "source": [
        "#### **2. Ultralytics HUB**\n",
        "\n",
        "- Ultralytics HUB mit Roboflow verlinken\n",
        "- Under Projekte \"Create Model\" wählen\n",
        "- Colab mit HUB verlinken"
      ]
    },
    {
      "cell_type": "code",
      "execution_count": null,
      "metadata": {
        "id": "qxtyKWP1kE59"
      },
      "outputs": [],
      "source": [
        "# Training via Ultralytics HUB\n",
        "%pip install -U ultralytics\n",
        "from ultralytics import YOLO, checks, hub\n",
        "checks()"
      ]
    },
    {
      "cell_type": "code",
      "execution_count": null,
      "metadata": {
        "id": "p20VkCMQlRPp"
      },
      "outputs": [],
      "source": [
        "# Training via Ultralytics HUB\n",
        "hub.login('867d2f58d7c18fd4431f9edffa7e7995d1c5d23282')\n",
        "\n",
        "\n",
        "model = YOLO('https://hub.ultralytics.com/models/TZs3shmNgxufMsJdfgij')\n",
        "results = model.train()"
      ]
    },
    {
      "cell_type": "markdown",
      "metadata": {
        "id": "StFGdku05-yE"
      },
      "source": [
        "# **5. Detektion und Test**\n",
        "Es gibt mehrere Möglichkeiten das Model zu testen\n",
        "\n",
        "- Local mithilfe von `detect.py`\n",
        "- Local mithilfe des Roboflow Packages\n",
        "- Auf der [Roboflow](https://roboflow.com/?ref=ultralytics) Webseite\n",
        "- Auf der [UltralyticsHub](https://hub.ultralytics.com/) Webseite"
      ]
    },
    {
      "cell_type": "code",
      "execution_count": null,
      "metadata": {
        "id": "KvySHqU07jES"
      },
      "outputs": [],
      "source": [
        "# Entferne bisherige Testergebnisse\n",
        "!rm -r runs/detect"
      ]
    },
    {
      "cell_type": "code",
      "execution_count": null,
      "metadata": {
        "id": "MhudvfV8fG0J"
      },
      "outputs": [],
      "source": [
        "# Local mithilfe von `detect.py`: Vortrainiert mit ms coco\n",
        "!python detect.py --weights yolov5s.pt --img 640 --conf 0.2 --source data/images/smartphone_test.jpg --name smartphone_test_pretrained"
      ]
    },
    {
      "cell_type": "code",
      "execution_count": null,
      "metadata": {
        "id": "oqE2_4pO1qto"
      },
      "outputs": [],
      "source": [
        "# Local mithilfe von `detect.py`: Smartphone\n",
        "!python detect.py --weights trainedModels/3479_w_aug/weights/best.pt --img 640 --conf 0.5 --iou 0.35 --source data/images/smartphone_test.jpg --name smartphone_test"
      ]
    },
    {
      "cell_type": "code",
      "execution_count": null,
      "metadata": {
        "id": "OBis6aeD1jGJ"
      },
      "outputs": [],
      "source": [
        "# Local mithilfe von `detect.py`: bottle paper carton\n",
        "!python detect.py --weights trainedModels/b_p_c_m_w_aug_640_run_1/weights/best.pt --img 640 --conf 0.4 --source data/images/b_p_c_test_1.jpg --name b_p_c_test_1\n",
        "!python detect.py --weights trainedModels/b_p_c_m_w_aug_640_run_1/weights/best.pt --img 640 --conf 0.4 --source data/images/b_p_c_test_2.jpg --name b_p_c_test_2\n",
        "!python detect.py --weights trainedModels/b_p_c_m_w_aug_640_run_1/weights/best.pt --img 640 --conf 0.4 --source data/images/b_p_c_test_3.jpg --name b_p_c_test_3"
      ]
    },
    {
      "cell_type": "code",
      "execution_count": null,
      "metadata": {
        "id": "MQvnZE5H2BRw"
      },
      "outputs": [],
      "source": [
        "# Local mithilfe von `detect.py`: Laptop\n",
        "!python detect.py --weights trainedModels/laptop_raw_run_2_colab/weights/best.pt --img 640 --conf 0.4 --iou 0.35 --source data/images/laptop.jpg --name laptop\n",
        "# !python detect.py --weights trainedModels/laptop_raw_run_1_ultralytics/weights/best.pt --img 640 --conf 0.4 --iou 0.35 --source data/images/laptop.jpg --name laptop"
      ]
    },
    {
      "cell_type": "code",
      "execution_count": null,
      "metadata": {
        "id": "YguO4oVvUtpT"
      },
      "outputs": [],
      "source": [
        "# Local mithilfe von `detect.py`: Smartphone VIDEO\n",
        "!python detect.py --weights trainedModels/3479_w_aug/weights/best.pt --img 640 --conf 0.4 --source data/videos/smartphone_test.mp4 --name smartphone_test_w_aug\n",
        "!python detect.py --weights trainedModels/379_raw_run_1/weights/best.pt --img 640 --conf 0.4 --source data/videos/smartphone_test.mp4 --name smartphone_test_raw\n",
        "!python detect.py --weights yolov5s.pt --img 640 --conf 0.4 --source data/videos/smartphone_test.mp4 --name smartphone_test_pretrained"
      ]
    },
    {
      "cell_type": "markdown",
      "metadata": {
        "id": "51rbSmdT6oCi"
      },
      "source": [
        "# **6. Export**\n",
        "- Basis Befehl / Python Script = `export.py`\n",
        "- Mehrere Argumente sind möglich:\n",
        "\n",
        "```\n",
        "# Auszug\n",
        "  --data\n",
        "  --weights\n",
        "  --imgsz\n",
        "  --batch-size\n",
        "  --device\n",
        "  --half\n",
        "    [...]\n",
        "  --int8\n",
        "  --workspace\n",
        "  --nms\n",
        "  --iou-thres\n",
        "  --conf-thres\n",
        "  --include\n",
        "```\n",
        "\n",
        "- Default Werte sind gesetzt\n",
        "- Beispielhafter Export Befehl: `!python export.py --weights path/to/weights --include tflite --imgsz 640 640 --data /path/to/data.yaml`\n",
        "- Visualisierung mithilfe von [Netron](https://netron.app/)"
      ]
    },
    {
      "cell_type": "code",
      "execution_count": null,
      "metadata": {
        "id": "VPz71-covxZr"
      },
      "outputs": [],
      "source": [
        "# Export Beispiel\n",
        "!python export.py --help"
      ]
    },
    {
      "cell_type": "code",
      "execution_count": null,
      "metadata": {
        "id": "h6q_sOUIAhIP"
      },
      "outputs": [],
      "source": [
        "# Export Beispiel\n",
        "input_width = 640 #@param {type:\"slider\", min:64, max:4096, step:64}\n",
        "input_height = 640 #@param {type:\"slider\", min:64, max:4096, step:64}\n",
        "\n",
        "!python export.py --weights /path/to/_.pt --img {input_height} {input_width} --include tflite"
      ]
    },
    {
      "cell_type": "markdown",
      "metadata": {
        "id": "aMIVZaJ4N5Ii"
      },
      "source": [
        "# **7. Weitere Links**\n",
        "\n",
        "- [Ultralytics Hub Workshop](https://hub.ultralytics.com/projects/PFGKwK1dCBJPguNS72k7)"
      ]
    }
  ],
  "metadata": {
    "colab": {
      "collapsed_sections": [
        "omFoFxX0PgnH",
        "HTGtqDNrS7SB",
        "KjDbNhPE_n5R",
        "SI4SRALFDfJ7",
        "JYWC8RKwoq79",
        "StFGdku05-yE",
        "51rbSmdT6oCi"
      ],
      "provenance": []
    },
    "kernelspec": {
      "display_name": "Python 3",
      "name": "python3"
    },
    "language_info": {
      "name": "python"
    }
  },
  "nbformat": 4,
  "nbformat_minor": 0
}