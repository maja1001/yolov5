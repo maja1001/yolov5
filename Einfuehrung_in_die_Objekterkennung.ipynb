{
  "cells": [
    {
      "cell_type": "markdown",
      "metadata": {
        "id": "view-in-github",
        "colab_type": "text"
      },
      "source": [
        "<a href=\"https://colab.research.google.com/github/maja1001/yolov5/blob/master/Einfuehrung_in_die_Objekterkennung.ipynb\" target=\"_parent\"><img src=\"https://colab.research.google.com/assets/colab-badge.svg\" alt=\"Open In Colab\"/></a>"
      ]
    },
    {
      "cell_type": "markdown",
      "metadata": {
        "id": "xM1mLLyE7fa2"
      },
      "source": [
        "![](https://upload.wikimedia.org/wikipedia/commons/thumb/5/5e/Logo_of_Hochschule_Kaiserslautern.png/320px-Logo_of_Hochschule_Kaiserslautern.png)\n",
        "\n",
        "![](https://miro.medium.com/v2/resize:fit:640/format:webp/0*mmUHzD_vxDJn5Rfc.gif)"
      ]
    },
    {
      "cell_type": "markdown",
      "metadata": {
        "id": "I1qYcdmBKLNO"
      },
      "source": [
        "# **Eine Einfuehrung in die Objekterkennung**\n",
        "\n",
        "Training und Anwendung von künstlichen neuronalen Netzen\n",
        "\n",
        "*Ein Workshop von Max*"
      ]
    },
    {
      "cell_type": "markdown",
      "metadata": {
        "id": "omFoFxX0PgnH"
      },
      "source": [
        "# **1. Einrichten der Umgebung**\n",
        "\n",
        "- Repository klonen\n",
        "- Abhänigkeiten installieren *(mit `pip3.x`)*\n",
        "- Installation Prüfen: print PyTorch und GPU Version"
      ]
    },
    {
      "cell_type": "code",
      "execution_count": null,
      "metadata": {
        "id": "vax9P_T_sP8O"
      },
      "outputs": [],
      "source": [
        "# !git clone https://github.com/ultralytics/yolov5  # clone\n",
        "!git clone https://github.com/maja1001/yolov5.git # clone forked repo\n",
        "\n",
        "%cd yolov5\n",
        "%pip install -r requirements.txt\n",
        "%pip install roboflow\n",
        "\n",
        "print(\"\\n[Info] Repository erfolgreich geklont und Abhänigkeiten installiert.\")"
      ]
    },
    {
      "cell_type": "code",
      "execution_count": null,
      "metadata": {
        "id": "pir5W6sosvM_"
      },
      "outputs": [],
      "source": [
        "import torch\n",
        "# import utils\n",
        "# from roboflow import Roboflow\n",
        "\n",
        "# display = utils.notebook_init()  # checks\n",
        "# from IPython.display import Image, clear_output  # to display images\n",
        "\n",
        "print( f\"[Info] Torch Version: {torch.__version__} ({torch.cuda.get_device_properties(0).name if torch.cuda.is_available() else 'Keine Grafikkarte gefunden: CPU wird verwendet'})\" )"
      ]
    },
    {
      "cell_type": "code",
      "execution_count": null,
      "metadata": {
        "id": "J8SjO1AuVqud"
      },
      "outputs": [],
      "source": [
        "!git pull"
      ]
    },
    {
      "cell_type": "markdown",
      "metadata": {
        "id": "HTGtqDNrS7SB"
      },
      "source": [
        "# **2. Verifizierung der Codebasis**\n",
        "\n",
        "- Validiere die Installation des Repositories anhand von zwei Bildern\n",
        "- Einsatz von `yolov5s`"
      ]
    },
    {
      "cell_type": "code",
      "execution_count": null,
      "metadata": {
        "id": "njAPw9KKS8Al"
      },
      "outputs": [],
      "source": [
        "# Teste detect\n",
        "!python detect.py --weights yolov5s.pt --img 640 --conf 0.25 --source data/images/bus.jpg --name test/bus\n",
        "!python detect.py --weights yolov5s.pt --img 640 --conf 0.25 --source data/images/zidane.jpg --name test/zidane\n",
        "\n",
        "!python detect.py --weights yolov5s.pt --img 640 --conf 0.7 --source data/images/bus.jpg --name test/busHighConf\n",
        "!python detect.py --weights yolov5s.pt --img 640 --conf 0.7 --source data/images/zidane.jpg --name test/zidaneHighConf\n",
        "\n",
        "# test both pictures\n",
        "# !python detect.py --weights yolov5s.pt --img 640 --conf 0.25 --source data/images"
      ]
    },
    {
      "cell_type": "code",
      "execution_count": null,
      "metadata": {
        "id": "JGi_9UZtWM0S"
      },
      "outputs": [],
      "source": [
        "# Entferne bisherige Ergebnisse\n",
        "!rm -r runs/detect/test"
      ]
    },
    {
      "cell_type": "markdown",
      "metadata": {
        "id": "KjDbNhPE_n5R"
      },
      "source": [
        "# **3. Datensatz einbinden**\n",
        "- Unter der Verwendung des Roboflow Packages\n",
        "- Roboflow Schnittstelle mit entsprechenden Schlüssel nutzen\n",
        "- Hier gehts zu [Roboflow](https://roboflow.com/?ref=ultralytics)\n",
        "\n",
        "Hier geht es zu einigen Vorbereiteten [Datensätzen](https://universe.roboflow.com/hsklworkshop-m8g4f)"
      ]
    },
    {
      "cell_type": "code",
      "execution_count": null,
      "metadata": {
        "id": "HO9EM4J__etG"
      },
      "outputs": [],
      "source": [
        "!pip install roboflow\n",
        "\n",
        "from roboflow import Roboflow\n",
        "rf = Roboflow(api_key=\"vB3ieGw7uAwm1qyRpILr\")\n",
        "project = rf.workspace(\"hsklworkshop-m8g4f\").project(\"laptop-o9ebb\")\n",
        "dataset = project.version(2).download(\"yolov5\")"
      ]
    },
    {
      "cell_type": "markdown",
      "metadata": {
        "id": "SI4SRALFDfJ7"
      },
      "source": [
        "# **4. Training**\n",
        "\n",
        "### Es gibt mehrere Möglichkeiten ein Training zu starten\n",
        "\n",
        "1. In Google Colab\n",
        "2. Alternativ über das [Ultralytics HUB](https://hub.ultralytics.com/home)\n",
        "\n",
        "\n",
        "#### **1. Google Colab**\n",
        "\n",
        "- Basis Befehl / Python Script = `train.py`\n",
        "- Mehrere Argumente sind möglich:\n",
        "\n",
        "```\n",
        "# Auszug\n",
        "--img 640\n",
        "--batch 16\n",
        "--epochs 100\n",
        "--cfg ../datasets/train_journey/config/custom_v5s6.yaml\n",
        "--data ../datasets/train_journey/data/with_aug_5c_1800/data.yaml\n",
        "--weights v5s6.pt\n",
        "--hyp ../datasets/train_journey/config/hyp-low-no-mosaic.yaml\n",
        "--project ../datasets/train_journey/run_v6_new\n",
        "--name with_aug_5c_1800\n",
        "--cache ram\n",
        "```\n",
        "\n",
        "- Default Werte sind gesetzt\n",
        "- Beispielhafter Trainings Befehl: `!python train.py --img 640 --batch 16 --epochs 3 --data coco128.yaml --weights yolov5s.pt --cache ram`"
      ]
    },
    {
      "cell_type": "code",
      "execution_count": null,
      "metadata": {
        "id": "c3gPoISdDbuR"
      },
      "outputs": [],
      "source": [
        "# Mit MS COCO\n",
        "!python train.py --img 640 --batch 16 --epochs 3 --data coco128.yaml --weights yolov5s.pt --cache ram"
      ]
    },
    {
      "cell_type": "code",
      "execution_count": null,
      "metadata": {
        "id": "nH421QYH677E"
      },
      "outputs": [],
      "source": [
        "# Individueller Datensatz\n",
        "!python train.py --img 640 --batch 64 --epochs 75 --cfg custom/yolov5sCustomOneClass.yaml --data small_smartphone_dataset_merged-4/data.yaml --weights yolov5s.pt --hyp custom/hypScratchMedNoMosaic.yaml --project small_smartphone_dataset_merged-4/result --name run_1 --cache ram"
      ]
    },
    {
      "cell_type": "code",
      "execution_count": null,
      "metadata": {
        "id": "xwF9JHxKLY-6"
      },
      "outputs": [],
      "source": [
        "# Individueller Datensatz\n",
        "!python train.py --img 640 --batch 64 --epochs 75 --cfg custom/yolov5sCustomThreeClasses.yaml --data bottle_paper_carton_merge-3/data.yaml --weights yolov5s.pt --hyp custom/hypScratchMedNoMosaic.yaml --project bottle_paper_carton_merge-3/result --name run_1 --cache ram"
      ]
    },
    {
      "cell_type": "code",
      "source": [
        "# Individueller Datensatz\n",
        "!python train.py --img 640 --batch -1 --epochs 75 --cfg custom/yolov5sCustomOneClass.yaml --data laptop-1/data.yaml --weights yolov5s.pt --hyp custom/hypScratchMedNoMosaic.yaml --project laptop-1/result --name run_2 --cache ram"
      ],
      "metadata": {
        "id": "jT2Iqw7O5yoU"
      },
      "execution_count": null,
      "outputs": []
    },
    {
      "cell_type": "code",
      "source": [
        "!python train.py -h"
      ],
      "metadata": {
        "id": "gqpRDpOO7cPb"
      },
      "execution_count": null,
      "outputs": []
    },
    {
      "cell_type": "code",
      "execution_count": null,
      "metadata": {
        "id": "lHurQ43KRvsm"
      },
      "outputs": [],
      "source": [
        "# Entferne Trainings Ergebnisse\n",
        "!rm -r small_smartphone_dataset-1/result"
      ]
    },
    {
      "cell_type": "markdown",
      "source": [
        "#### **2. Ultralytics HUB**\n",
        "\n",
        "- HUB mit Roboflow linken\n",
        "- Unter Projekte \"Create Model\" starten\n",
        "- Colab mit HUB linken"
      ],
      "metadata": {
        "id": "JYWC8RKwoq79"
      }
    },
    {
      "cell_type": "code",
      "execution_count": null,
      "metadata": {
        "id": "qxtyKWP1kE59",
        "colab": {
          "base_uri": "https://localhost:8080/"
        },
        "outputId": "05a6d5af-64d8-483b-f6e9-12d920cd4e1a"
      },
      "outputs": [
        {
          "output_type": "stream",
          "name": "stdout",
          "text": [
            "Ultralytics YOLOv8.0.232 🚀 Python-3.10.12 torch-2.1.0+cu121 CUDA:0 (Tesla T4, 15102MiB)\n",
            "Setup complete ✅ (2 CPUs, 12.7 GB RAM, 27.4/78.2 GB disk)\n"
          ]
        }
      ],
      "source": [
        "# Training via Ultralytics HUB\n",
        "%pip install -U ultralytics\n",
        "from ultralytics import YOLO, checks, hub\n",
        "checks()"
      ]
    },
    {
      "cell_type": "code",
      "execution_count": null,
      "metadata": {
        "id": "p20VkCMQlRPp"
      },
      "outputs": [],
      "source": [
        "# Training via Ultralytics HUB\n",
        "hub.login('867d2f58d7c18fd4431f9edffa7e7995d1c5d23282')\n",
        "\n",
        "model = YOLO('https://hub.ultralytics.com/models/pEKKIrLtlfOZmXjLk2gc')\n",
        "results = model.train()"
      ]
    },
    {
      "cell_type": "markdown",
      "metadata": {
        "id": "StFGdku05-yE"
      },
      "source": [
        "# **5. Detektion und Test**\n",
        "Es gibt mehrere Möglichkeiten das Modell zu testen:\n",
        "- Lokal mithilfe von `detect.py`\n",
        "- Lokal mithilfe des Roboflow Packages\n",
        "- Auf der [Roboflow](https://roboflow.com/?ref=ultralytics) Webseite\n",
        "- Auf der [UltralyticsHub](https://hub.ultralytics.com/) Webseite"
      ]
    },
    {
      "cell_type": "code",
      "execution_count": null,
      "metadata": {
        "id": "KvySHqU07jES"
      },
      "outputs": [],
      "source": [
        "# Entferne bisherige Testergebnisse\n",
        "!rm -r runs/detect/i"
      ]
    },
    {
      "cell_type": "code",
      "execution_count": null,
      "metadata": {
        "id": "MhudvfV8fG0J"
      },
      "outputs": [],
      "source": [
        "# Lokal mithilfe von `detect.py`: Vortrainiert mit ms coco\n",
        "!python detect.py --weights yolov5s.pt --img 640 --conf 0.2 --source data/images/smartphone_test.jpg --name smartphone_test"
      ]
    },
    {
      "cell_type": "code",
      "source": [
        "# Lokal mithilfe von `detect.py`: Smartphone\n",
        "!python detect.py --weights trainedModels/3479_w_aug/weights/best.pt --img 640 --conf 0.5 --iou 0.35 --source data/images/smartphone_test.jpg --name smartphone_test"
      ],
      "metadata": {
        "id": "oqE2_4pO1qto"
      },
      "execution_count": null,
      "outputs": []
    },
    {
      "cell_type": "code",
      "source": [
        "# Lokal mithilfe von `detect.py`: bottle paper carton\n",
        "!python detect.py --weights bottle_paper_carton_merge-3/result/run_1/weights/best.pt --img 640 --conf 0.4 --source data/images/b_p_c_test_1.jpg --name i/b_p_c_test_1\n",
        "!python detect.py --weights bottle_paper_carton_merge-3/result/run_1/weights/best.pt --img 640 --conf 0.4 --source data/images/b_p_c_test_2.jpg --name i/b_p_c_test_2\n",
        "!python detect.py --weights bottle_paper_carton_merge-3/result/run_1/weights/best.pt --img 640 --conf 0.4 --source data/images/b_p_c_test_3.jpg --name i/b_p_c_test_3"
      ],
      "metadata": {
        "id": "OBis6aeD1jGJ"
      },
      "execution_count": null,
      "outputs": []
    },
    {
      "cell_type": "code",
      "source": [
        "# Lokal mithilfe von `detect.py`: Laptop\n",
        "# !python detect.py --weights trainedModels/laptop_raw_run_2_colab/weights/best.pt --img 640 --conf 0.4 --iou 0.35 --source data/images/laptop.jpg --name laptop\n",
        "!python detect.py --weights trainedModels/laptop_raw_run_1_ultralytics/weights/best.pt --img 640 --conf 0.4 --iou 0.35 --source data/images/laptop.jpg --name laptop"
      ],
      "metadata": {
        "id": "MQvnZE5H2BRw"
      },
      "execution_count": null,
      "outputs": []
    },
    {
      "cell_type": "code",
      "execution_count": null,
      "metadata": {
        "id": "YguO4oVvUtpT"
      },
      "outputs": [],
      "source": [
        "# Lokal mithilfe des Roboflow Packages\n",
        "from roboflow import Roboflow\n",
        "rf = Roboflow(api_key=\"pEfHzLPIxO9w5xrhd4Zv\")\n",
        "project = rf.workspace().project(\"small_smartphone_dataset\")\n",
        "model = project.version(1).model\n",
        "\n",
        "# !pwd\n",
        "# !ls -la data/images/smartphone_test.jpg\n",
        "\n",
        "# infer on a local image\n",
        "# print(model.predict(\"/content/yolov5/data/images/smartphone_test.jpg\", confidence=40, overlap=30).json())\n",
        "\n",
        "# visualize your prediction\n",
        "!cd small_smartphone_dataset-1/valid/images\n",
        "model.predict(\"Datacluster-Labs-Phone-Dataset-17-_jpg.rf.0bafa13817017a23f922a556a103e8c5.jpg\", confidence=30, overlap=30).save(\"prediction.jpg\")"
      ]
    },
    {
      "cell_type": "markdown",
      "metadata": {
        "id": "51rbSmdT6oCi"
      },
      "source": [
        "# **6. Export**\n",
        "- Basis Befehl / Python Script = `export.py`\n",
        "- Mehrere Argumente sind möglich:\n",
        "\n",
        "```\n",
        "# Auszug\n",
        "--data\n",
        "--weights\n",
        "--imgsz\n",
        "--batch-size\n",
        "--device\n",
        "[...]\n",
        "--inplace\n",
        "--keras\n",
        "--optimize\n",
        "```\n",
        "\n",
        "- Default Werte sind gesetzt\n",
        "- Beispielhafter Export Befehl: `!python export.py --weights ../datasets/train_journey/run/7/weights/best.pt --include tflite --imgsz 640 640 --data ../datasets/train_journey/../data.yaml`\n",
        "- Visualisierung mithilfe von [Netron](https://netron.app/)"
      ]
    },
    {
      "cell_type": "code",
      "source": [
        "# Export Beispiel\n",
        "!python export.py --weights ../yolov5/trainedModels/b_p_c_m_w_aug_640_run_1/weights/best.pt --include tflite --imgsz 640 640"
      ],
      "metadata": {
        "id": "VPz71-covxZr"
      },
      "execution_count": null,
      "outputs": []
    },
    {
      "cell_type": "markdown",
      "source": [
        "# **7. Weitere Links**\n",
        "- [Ultralytics Hub Workshop](https://hub.ultralytics.com/projects/PFGKwK1dCBJPguNS72k7)"
      ],
      "metadata": {
        "id": "aMIVZaJ4N5Ii"
      }
    }
  ],
  "metadata": {
    "colab": {
      "provenance": [],
      "include_colab_link": true
    },
    "kernelspec": {
      "display_name": "Python 3",
      "name": "python3"
    },
    "language_info": {
      "name": "python"
    }
  },
  "nbformat": 4,
  "nbformat_minor": 0
}